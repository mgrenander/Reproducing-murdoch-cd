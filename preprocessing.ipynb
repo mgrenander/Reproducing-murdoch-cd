{
 "cells": [
  {
   "cell_type": "code",
   "execution_count": 2,
   "metadata": {
    "collapsed": true
   },
   "outputs": [],
   "source": [
    "from torchtext import data, datasets\n",
    "import torch\n",
    "import os"
   ]
  },
  {
   "cell_type": "code",
   "execution_count": 3,
   "metadata": {},
   "outputs": [
    {
     "name": "stderr",
     "output_type": "stream",
     "text": [
      "/home/mbulte/anaconda2/lib/python2.7/site-packages/nltk/tree.py:619: UnicodeWarning: Unicode equal comparison failed to convert both arguments to Unicode - interpreting them as being unequal\n",
      "  elif token == close_b:\n",
      "/home/mbulte/anaconda2/lib/python2.7/site-packages/nltk/tree.py:612: UnicodeWarning: Unicode equal comparison failed to convert both arguments to Unicode - interpreting them as being unequal\n",
      "  if token[0] == open_b:\n"
     ]
    }
   ],
   "source": [
    "# preserves case of words\n",
    "inputs = data.Field(lower='preserve-case')\n",
    "\n",
    "# No tokenization applied because the data is not seq\n",
    "# unk_token=None: ignore out of vocabulary tokens, since these are grades\n",
    "answers = data.Field(sequential=False, unk_token=None) # y: floats\n",
    "\n",
    "# fine_grained=False - use the following grade mapping { 0,1 -> negativ; 2 -> neutral; 3,4 -> positive }\n",
    "# filter=... - remove the neutral class to reduce the problem to binary classification\n",
    "# train_subtrees=False - Use only complete review instead of also using subsentences (subtrees)\n",
    "train, dev, test = datasets.SST.splits(inputs, answers, fine_grained = False, train_subtrees = True,\n",
    "                                       filter_pred=lambda ex: ex.label != 'neutral')"
   ]
  },
  {
   "cell_type": "code",
   "execution_count": 4,
   "metadata": {
    "collapsed": true
   },
   "outputs": [],
   "source": [
    "# build the initial vocabulary from the SST dataset\n",
    "inputs.build_vocab(train, dev, test)"
   ]
  },
  {
   "cell_type": "code",
   "execution_count": 5,
   "metadata": {},
   "outputs": [
    {
     "name": "stderr",
     "output_type": "stream",
     "text": [
      "100%|██████████| 400000/400000 [01:09<00:00, 5752.51it/s]\n"
     ]
    }
   ],
   "source": [
    "# then enhance it with the pre-trained glove model \n",
    "inputs.vocab.load_vectors('glove.6B.300d')"
   ]
  },
  {
   "cell_type": "code",
   "execution_count": 6,
   "metadata": {
    "collapsed": true
   },
   "outputs": [],
   "source": [
    "# build the vocab for the labels (only consists of 'positive','negative')\n",
    "answers.build_vocab(train)"
   ]
  },
  {
   "cell_type": "code",
   "execution_count": null,
   "metadata": {
    "collapsed": true
   },
   "outputs": [],
   "source": [
    "# You can use these iterators to train/test/validate the network :)\n",
    "train_iter, dev_iter, test_iter = data.BucketIterator.splits(\n",
    "            (train, dev, test), batch_size=args.batch_size, device=args.gpu)"
   ]
  }
 ],
 "metadata": {
  "kernelspec": {
   "display_name": "Python 2",
   "language": "python",
   "name": "python2"
  },
  "language_info": {
   "codemirror_mode": {
    "name": "ipython",
    "version": 2
   },
   "file_extension": ".py",
   "mimetype": "text/x-python",
   "name": "python",
   "nbconvert_exporter": "python",
   "pygments_lexer": "ipython2",
   "version": "2.7.14"
  }
 },
 "nbformat": 4,
 "nbformat_minor": 2
}
