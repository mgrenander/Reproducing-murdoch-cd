{
 "cells": [
  {
   "cell_type": "markdown",
   "metadata": {},
   "source": [
    "## Decomposing SST Reviews into subphrases of opposite sentiments"
   ]
  },
  {
   "cell_type": "code",
   "execution_count": 43,
   "metadata": {},
   "outputs": [],
   "source": [
    "from torchtext import data, datasets\n",
    "import torch\n",
    "import os\n",
    "from collections import Counter\n",
    "import torch.nn.functional as F\n",
    "import torch.autograd as autograd\n",
    "import torch.nn as nn\n",
    "import numpy as np\n",
    "from ContextualDecomposition import CD"
   ]
  },
  {
   "cell_type": "markdown",
   "metadata": {},
   "source": [
    "## Extract Data"
   ]
  },
  {
   "cell_type": "code",
   "execution_count": 44,
   "metadata": {},
   "outputs": [],
   "source": [
    "inputs = data.Field(lower='preserve-case')\n",
    "answers = data.Field(sequential=False, unk_token=None) # y: floats\n",
    "train, dev, test = datasets.SST.splits(inputs, answers, fine_grained = False, train_subtrees = True)\n",
    "inputs.build_vocab(train, dev, test)\n",
    "inputs.vocab.load_vectors('glove.6B.300d')\n",
    "answers.build_vocab(train)"
   ]
  },
  {
   "cell_type": "code",
   "execution_count": 45,
   "metadata": {},
   "outputs": [],
   "source": [
    "model =  torch.load('model.pt', map_location=lambda storage, loc: storage)"
   ]
  },
  {
   "cell_type": "markdown",
   "metadata": {},
   "source": [
    "## Parse the reviews into positive and negative review with opposing sentiment subsentences"
   ]
  },
  {
   "cell_type": "code",
   "execution_count": 46,
   "metadata": {},
   "outputs": [],
   "source": [
    "def parseTrees(train):\n",
    "    # Output two list: Positive reviews, Negative reviews with opposing sentiment subsentences\n",
    "    # List of tuples: (sentence, list of subsentence) where subsentences are of opposing sentiment to sentence.\n",
    "    # The subsentences are of lengths 1/3 and 2/3 of the given sentence\n",
    "    positivels = []\n",
    "    negativels = []\n",
    "    cur_sentence = []\n",
    "    for _,sub in enumerate(train):\n",
    "        # check if sub is subsentence of curr_sentence\n",
    "        if set(sub.text).issubset(set(cur_sentence)):\n",
    "            l = len(sub.text)\n",
    "            # Check if length of subtree is between 1/3 and 2/3\n",
    "            if (l <= cur_length*2/3.0) and (l >= cur_length/3.0) :\n",
    "                # get sentiment of subsentence\n",
    "                sentiment = sub.label\n",
    "                # add subsentence to corresponding list, want opposing sentiment subphrases\n",
    "                if sentiment == 'positive' and cur_sentiment == 'negative':\n",
    "                    negativels[-1][1].append(sub)\n",
    "                elif sentiment == 'negative' and cur_sentiment == 'positive':\n",
    "                    positivels[-1][1].append(sub)\n",
    "        else:\n",
    "            cur_sentiment = sub.label\n",
    "            if cur_sentiment == 'negative':\n",
    "                negativels.append((sub, []))\n",
    "            elif cur_sentiment == 'positive':\n",
    "                positivels.append((sub,[]))\n",
    "            cur_sentence = sub.text\n",
    "            cur_length = len(cur_sentence)\n",
    "\n",
    "    # remove all sentence with empty subphrase list\n",
    "    pls = []\n",
    "    nls = []\n",
    "    for e in positivels:\n",
    "        if len(e[1]): pls.append(e)\n",
    "    for e in negativels:\n",
    "        if len(e[1]): nls.append(e)\n",
    "            \n",
    "    return [pls, nls]"
   ]
  },
  {
   "cell_type": "markdown",
   "metadata": {},
   "source": [
    "## Format the lists for the CD"
   ]
  },
  {
   "cell_type": "code",
   "execution_count": 47,
   "metadata": {},
   "outputs": [],
   "source": [
    "def rolling_window(phrase, sub):\n",
    "    tups = []\n",
    "    for i in range(phrase.shape[0]):\n",
    "        if i + len(sub) > phrase.shape[0]:\n",
    "            break\n",
    "        else:\n",
    "            if np.array_equal(phrase[i:i+len(sub)], sub):\n",
    "                tups.append((i, i+len(sub)-1))\n",
    "    return tups"
   ]
  },
  {
   "cell_type": "code",
   "execution_count": 48,
   "metadata": {},
   "outputs": [],
   "source": [
    "def format_indices(ls):\n",
    "    formatted_ls = []\n",
    "    for tup in ls:\n",
    "        phrase = inputs.numericalize([tup[0].text], device=-1, train=False)\n",
    "        subphrases = [inputs.numericalize([sub.text], device=-1, train=False) for sub in tup[1]]\n",
    "        np_phrase = phrase.data.numpy()\n",
    "        idx_tups = []\n",
    "        for sub in subphrases:\n",
    "            np_sub = sub.data.numpy()\n",
    "            idx_tups += rolling_window(np_phrase, np_sub)\n",
    "        formatted_ls.append((phrase, idx_tups))\n",
    "    return formatted_ls"
   ]
  },
  {
   "cell_type": "code",
   "execution_count": 121,
   "metadata": {},
   "outputs": [],
   "source": [
    "plsR, nlsR = parseTrees(train)\n"
   ]
  },
  {
   "cell_type": "code",
   "execution_count": 122,
   "metadata": {},
   "outputs": [],
   "source": [
    "sentence, subls = plsR[50]\n",
    "subls = subls[0]"
   ]
  },
  {
   "cell_type": "code",
   "execution_count": 123,
   "metadata": {},
   "outputs": [
    {
     "name": "stdout",
     "output_type": "stream",
     "text": [
      "[u'while', u'it', u'can', u'be', u'a', u'bit', u'repetitive', u',', u'overall', u'it', u\"'s\", u'an', u'entertaining', u'and', u'informative', u'documentary', u'.']\n",
      "positive\n",
      "Subsentence\n",
      "[u'while', u'it', u'can', u'be', u'a', u'bit', u'repetitive']\n",
      "negative\n"
     ]
    }
   ],
   "source": [
    "print(sentence.text)\n",
    "print(sentence.label)\n",
    "print(\"Subsentence\")\n",
    "print(subls.text)\n",
    "print(subls.label)"
   ]
  },
  {
   "cell_type": "code",
   "execution_count": null,
   "metadata": {},
   "outputs": [],
   "source": []
  },
  {
   "cell_type": "code",
   "execution_count": 124,
   "metadata": {},
   "outputs": [],
   "source": [
    "pls = format_indices(plsR)\n",
    "nls = format_indices(nlsR)"
   ]
  },
  {
   "cell_type": "code",
   "execution_count": 125,
   "metadata": {},
   "outputs": [],
   "source": [
    "# Input: list of phrase and corresponding subphrases\n",
    "#        label of list: positive or negative phrases (with opposite sentiment subphrases)\n",
    "#        model\n",
    "def findSubphraseScores(ls, label, model):\n",
    "    output = []\n",
    "    for phrase, subIndexList in ls:\n",
    "        for start,stop in subIndexList:\n",
    "            e = CD(phrase, model, start, stop)\n",
    "            output.append(e[0][0]-e[0][1])\n",
    "    return output\n",
    "\n",
    "def findSubphraseScoresNoSubtraction(ls, label, model):\n",
    "    output = []\n",
    "    for phrase, subIndexList in ls:\n",
    "        for start,stop in subIndexList:\n",
    "            e = CD(phrase, model, start, stop)\n",
    "            if label == 'positive':\n",
    "                output.append(e[0][0])\n",
    "                \n",
    "            elif label == 'negative':\n",
    "                output.append(e[0][1])\n",
    "    return output"
   ]
  },
  {
   "cell_type": "code",
   "execution_count": 126,
   "metadata": {},
   "outputs": [],
   "source": [
    "plsScores = findSubphraseScores(pls, 'positive', model)\n",
    "nlsScores = findSubphraseScores(nls, 'negative', model)"
   ]
  },
  {
   "cell_type": "code",
   "execution_count": 144,
   "metadata": {},
   "outputs": [
    {
     "data": {
      "text/plain": [
       "Text(0.5,1,u'Distribution of positive and negative dissenting sub-phrases')"
      ]
     },
     "execution_count": 144,
     "metadata": {},
     "output_type": "execute_result"
    },
    {
     "data": {
      "image/png": "[encoded data removed]",
      "text/plain": [
       "<matplotlib.figure.Figure at 0x7f163e7b5bd0>"
      ]
     },
     "metadata": {},
     "output_type": "display_data"
    }
   ],
   "source": [
    "import seaborn as sns\n",
    "ax = sns.distplot(nlsScores, hist=False, color=\"red\", kde_kws={\"shade\":True}, label=\"negative sentiment\");\n",
    "ax = sns.distplot(plsScores, hist=False, color=\"green\", kde_kws={\"shade\":True}, label=\"positive sentiment\");\n",
    "\n",
    "ax.set(xlabel='Contextual Decomposition', ylabel='Density')\n",
    "ax.set_title(\"Distribution of positive and negative dissenting sub-phrases\")\n"
   ]
  },
  {
   "cell_type": "code",
   "execution_count": null,
   "metadata": {},
   "outputs": [],
   "source": []
  },
  {
   "cell_type": "code",
   "execution_count": null,
   "metadata": {},
   "outputs": [],
   "source": []
  },
  {
   "cell_type": "code",
   "execution_count": 125,
   "metadata": {},
   "outputs": [],
   "source": [
    "x = inputs.numericalize([[\"A\"], [\"painfully\"], [\"funny\"], [\"ode\"], [\"to\"], [\"bad\"], [\"behaviour\"], [\".\"]], device=-1, train=False)\n",
    "y = inputs.numericalize([[\"A\"], [\"bad\"], [\"movie\"], [\".\"]], device=-1, train=False)\n"
   ]
  },
  {
   "cell_type": "code",
   "execution_count": 127,
   "metadata": {},
   "outputs": [
    {
     "name": "stdout",
     "output_type": "stream",
     "text": [
      "3.745513772380719\n",
      "3.365864613372511\n"
     ]
    }
   ],
   "source": [
    "xx = CDAuthor(x,model,0,3)\n",
    "yy = CDAuthor(y,model,0,3)\n",
    "\n",
    "print(xx[0][0]-xx[0][1])\n",
    "print(yy[0][0]-yy[0][1])"
   ]
  },
  {
   "cell_type": "markdown",
   "metadata": {},
   "source": [
    "## Examples of parser"
   ]
  },
  {
   "cell_type": "code",
   "execution_count": 204,
   "metadata": {},
   "outputs": [
    {
     "name": "stdout",
     "output_type": "stream",
     "text": [
      "Main sentence: \n",
      "[u'have', u'had', u'enough', u'of', u'plucky', u'british', u'eccentrics', u'with', u'hearts', u'of', u'gold']\n",
      "Positive subsentence: \n",
      "[u'with', u'hearts', u'of', u'gold']\n",
      "Negative subsentence: \n",
      "[u'enough', u'of', u'plucky', u'british', u'eccentrics']\n"
     ]
    }
   ],
   "source": [
    "print(\"Main sentence: \")\n",
    "print(sentencels[3][0].text)\n",
    "print(\"Positive subsentence: \")\n",
    "print(sentencels[3][1][0][0].text)\n",
    "print (\"Negative subsentence: \")\n",
    "print(sentencels[3][1][1][0].text)"
   ]
  },
  {
   "cell_type": "code",
   "execution_count": 181,
   "metadata": {},
   "outputs": [
    {
     "name": "stdout",
     "output_type": "stream",
     "text": [
      "Main sentence: \n",
      "[u'in', u'this', u'case', u'zero', u'.']\n",
      "Positive subsentence: \n",
      "[u'case', u'zero', u'.']\n",
      "Positive subsentence: \n",
      "[u'zero', u'.']\n"
     ]
    }
   ],
   "source": [
    "print(\"Main sentence: \")\n",
    "print(sentencels[-1][0].text)\n",
    "print(\"Positive subsentence: \")\n",
    "print(sentencels[-1][1][1][0].text)\n",
    "print (\"Positive subsentence: \")\n",
    "print(sentencels[-1][1][1][1].text)"
   ]
  },
  {
   "cell_type": "code",
   "execution_count": 197,
   "metadata": {},
   "outputs": [
    {
     "name": "stdout",
     "output_type": "stream",
     "text": [
      "Main sentence: \n",
      "[u'next', u'pretty', u'good', u'thing']\n",
      "Positive subsentence: \n",
      "[u'good', u'thing']\n"
     ]
    }
   ],
   "source": [
    "print(\"Main sentence: \")\n",
    "print(sentencels[30][0].text)\n",
    "print(\"Positive subsentence: \")\n",
    "print(sentencels[30][1][0][0].text)"
   ]
  },
  {
   "cell_type": "code",
   "execution_count": null,
   "metadata": {},
   "outputs": [],
   "source": []
  }
 ],
 "metadata": {
  "kernelspec": {
   "display_name": "Python 2",
   "language": "python",
   "name": "python2"
  }
 },
 "nbformat": 4,
 "nbformat_minor": 2
}
