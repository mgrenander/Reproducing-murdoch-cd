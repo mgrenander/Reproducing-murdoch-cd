{
 "cells": [
  {
   "cell_type": "markdown",
   "metadata": {},
   "source": [
    "## Decomposing SST Reviews into subphrases of opposite sentiments"
   ]
  },
  {
   "cell_type": "code",
   "execution_count": 1,
   "metadata": {},
   "outputs": [],
   "source": [
    "from torchtext import data, datasets\n",
    "import torch\n",
    "import os\n",
    "from collections import Counter\n",
    "import torch.nn.functional as F\n",
    "import torch.autograd as autograd\n",
    "import torch.nn as nn"
   ]
  },
  {
   "cell_type": "markdown",
   "metadata": {},
   "source": [
    "## Extract Data"
   ]
  },
  {
   "cell_type": "code",
   "execution_count": 23,
   "metadata": {},
   "outputs": [],
   "source": [
    "inputs = data.Field(lower='preserve-case')\n",
    "answers = data.Field(sequential=False, unk_token=None) # y: floats\n",
    "\n",
    "train, dev, test = datasets.SST.splits(inputs, answers, fine_grained = False, train_subtrees = True,\n",
    "                                       filter_pred=lambda ex: ex.label != 'neutral')"
   ]
  },
  {
   "cell_type": "markdown",
   "metadata": {},
   "source": [
    "## Parse the reviews"
   ]
  },
  {
   "cell_type": "code",
   "execution_count": 207,
   "metadata": {},
   "outputs": [],
   "source": [
    "# List of tuples: (sentence, (+,-)) where + are positive and - are negative subsentences.\n",
    "# The subsentences are of lengths 1/3 and 2/3 of the given sentence\n",
    "sentencels=[]\n",
    "    \n",
    "for _,sub in enumerate(train):\n",
    "    # check if sub is subsentence of curr_sentence\n",
    "    if set(sub.text).issubset(set(cur_sentence)):\n",
    "        l = len(sub.text)\n",
    "        # Check if length of subtree is between 1/3 and 2/3\n",
    "        if (l <= cur_length*2/3.0) and (l >= cur_length/3.0) :\n",
    "            # get sentiment of subsentence\n",
    "            sentiment = sub.label\n",
    "            # add subsentence to corresponding list\n",
    "            if sentiment == 'positive':\n",
    "                sentencels[-1][1][0].append(sub)\n",
    "            elif sentiment == 'negative':\n",
    "                sentencels[-1][1][1].append(sub)\n",
    "\n",
    "    else:\n",
    "        sentencels.append((sub, ([],[])))\n",
    "        cur_sentence = sub.text\n",
    "        cur_length = len(cur_sentence)"
   ]
  },
  {
   "cell_type": "markdown",
   "metadata": {},
   "source": [
    "## Examples of parser"
   ]
  },
  {
   "cell_type": "code",
   "execution_count": 204,
   "metadata": {},
   "outputs": [
    {
     "name": "stdout",
     "output_type": "stream",
     "text": [
      "Main sentence: \n",
      "[u'have', u'had', u'enough', u'of', u'plucky', u'british', u'eccentrics', u'with', u'hearts', u'of', u'gold']\n",
      "Positive subsentence: \n",
      "[u'with', u'hearts', u'of', u'gold']\n",
      "Negative subsentence: \n",
      "[u'enough', u'of', u'plucky', u'british', u'eccentrics']\n"
     ]
    }
   ],
   "source": [
    "print(\"Main sentence: \")\n",
    "print(sentencels[3][0].text)\n",
    "print(\"Positive subsentence: \")\n",
    "print(sentencels[3][1][0][0].text)\n",
    "print (\"Negative subsentence: \")\n",
    "print(sentencels[3][1][1][0].text)"
   ]
  },
  {
   "cell_type": "code",
   "execution_count": 181,
   "metadata": {},
   "outputs": [
    {
     "name": "stdout",
     "output_type": "stream",
     "text": [
      "Main sentence: \n",
      "[u'in', u'this', u'case', u'zero', u'.']\n",
      "Positive subsentence: \n",
      "[u'case', u'zero', u'.']\n",
      "Positive subsentence: \n",
      "[u'zero', u'.']\n"
     ]
    }
   ],
   "source": [
    "print(\"Main sentence: \")\n",
    "print(sentencels[-1][0].text)\n",
    "print(\"Positive subsentence: \")\n",
    "print(sentencels[-1][1][1][0].text)\n",
    "print (\"Positive subsentence: \")\n",
    "print(sentencels[-1][1][1][1].text)"
   ]
  },
  {
   "cell_type": "code",
   "execution_count": 197,
   "metadata": {},
   "outputs": [
    {
     "name": "stdout",
     "output_type": "stream",
     "text": [
      "Main sentence: \n",
      "[u'next', u'pretty', u'good', u'thing']\n",
      "Positive subsentence: \n",
      "[u'good', u'thing']\n"
     ]
    }
   ],
   "source": [
    "print(\"Main sentence: \")\n",
    "print(sentencels[30][0].text)\n",
    "print(\"Positive subsentence: \")\n",
    "print(sentencels[30][1][0][0].text)"
   ]
  },
  {
   "cell_type": "code",
   "execution_count": null,
   "metadata": {},
   "outputs": [],
   "source": []
  }
 ],
 "metadata": {
  "kernelspec": {
   "display_name": "Python 2",
   "language": "python",
   "name": "python2"
  },
  "language_info": {
   "codemirror_mode": {
    "name": "ipython",
    "version": 2
   },
   "file_extension": ".py",
   "mimetype": "text/x-python",
   "name": "python",
   "nbconvert_exporter": "python",
   "pygments_lexer": "ipython2",
   "version": "2.7.14"
  }
 },
 "nbformat": 4,
 "nbformat_minor": 2
}
