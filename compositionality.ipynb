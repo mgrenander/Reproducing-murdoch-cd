{
 "cells": [
  {
   "cell_type": "markdown",
   "metadata": {},
   "source": [
    "## Section 4.4: Examining High-Level Compositinality"
   ]
  },
  {
   "cell_type": "code",
   "execution_count": 1,
   "metadata": {},
   "outputs": [],
   "source": [
    "from __future__ import print_function\n",
    "\n",
    "from torchtext import data, datasets\n",
    "import torch\n",
    "import os\n",
    "from collections import Counter\n",
    "import torch.nn.functional as F\n",
    "import torch.autograd as autograd\n",
    "import torch.nn as nn"
   ]
  },
  {
   "cell_type": "code",
   "execution_count": 2,
   "metadata": {},
   "outputs": [
    {
     "name": "stderr",
     "output_type": "stream",
     "text": [
      "/home/ckerriou/anaconda2/lib/python2.7/site-packages/nltk/tree.py:623: UnicodeWarning: Unicode equal comparison failed to convert both arguments to Unicode - interpreting them as being unequal\n",
      "  elif token == close_b:\n",
      "/home/ckerriou/anaconda2/lib/python2.7/site-packages/nltk/tree.py:616: UnicodeWarning: Unicode equal comparison failed to convert both arguments to Unicode - interpreting them as being unequal\n",
      "  if token[0] == open_b:\n"
     ]
    }
   ],
   "source": [
    "# preserves case of words\n",
    "inputs = data.Field(lower='preserve-case')\n",
    "\n",
    "# No tokenization applied because the data is not seq\n",
    "# unk_token=None: ignore out of vocabulary tokens, since these are grades\n",
    "answers = data.Field(sequential=False, unk_token=None) # y: floats\n",
    "\n",
    "# fine_grained=False - use the following grade mapping { 0,1 -> negativ; 2 -> neutral; 3,4 -> positive }\n",
    "# filter=... - remove the neutral class to reduce the problem to binary classification\n",
    "# train_subtrees=False - Use only complete review instead of also using subsentences (subtrees)\n",
    "train, dev, test = datasets.SST.splits(inputs, answers, fine_grained = False, train_subtrees = True,\n",
    "                                       filter_pred=lambda ex: ex.label != 'neutral')\n",
    "# build the initial vocabulary from the SST dataset\n",
    "inputs.build_vocab(train, dev, test)\n",
    "\n",
    "# then enhance it with the pre-trained glove model \n",
    "inputs.vocab.load_vectors('glove.6B.300d')\n",
    "\n",
    "# build the vocab for the labels (only consists of 'positive','negative')\n",
    "answers.build_vocab(train)\n",
    "\n",
    "# You can use these iterators to train/test/validate the network :)\n",
    "train_iter, dev_iter, test_iter = data.BucketIterator.splits(\n",
    "        (train, dev, test), repeat=False, batch_size=1, device=-1)"
   ]
  },
  {
   "cell_type": "code",
   "execution_count": 7,
   "metadata": {},
   "outputs": [],
   "source": [
    "for _,batch in enumerate(train_iter):\n",
    "    b = batch\n",
    "    break"
   ]
  },
  {
   "cell_type": "code",
   "execution_count": 8,
   "metadata": {},
   "outputs": [],
   "source": [
    "model =  torch.load('model.pt', map_location=lambda storage, loc: storage)"
   ]
  },
  {
   "cell_type": "code",
   "execution_count": null,
   "metadata": {},
   "outputs": [],
   "source": []
  },
  {
   "cell_type": "code",
   "execution_count": 9,
   "metadata": {},
   "outputs": [],
   "source": [
    "word_vecs = model.word_embeddings(batch.text)[:,0].data"
   ]
  },
  {
   "cell_type": "code",
   "execution_count": 10,
   "metadata": {},
   "outputs": [
    {
     "data": {
      "text/plain": [
       "\n",
       "-2.6928e-01  2.2387e-01  1.0296e-01  ...  -1.9804e-01 -1.3537e-01 -3.3289e-02\n",
       "-2.8300e-01  2.2680e-01  4.2434e-01  ...  -2.9751e-01 -5.7114e-01 -1.1897e-02\n",
       "-1.2959e-01 -4.5655e-01 -1.6903e-01  ...  -2.1640e-02  1.7986e-01 -4.5405e-01\n",
       "                ...                   ⋱                   ...                \n",
       "-2.7511e-01 -1.0711e-01 -3.7974e-01  ...  -3.8723e-01  3.1628e-01  3.1824e-01\n",
       "-2.8478e-01  2.9991e-02  4.7464e-01  ...  -1.7845e-01  5.2008e-01 -7.2839e-01\n",
       "-8.7050e-02 -4.5883e-02  2.0488e-01  ...  -1.6052e-01  2.2561e-02  1.1160e-01\n",
       "[torch.FloatTensor of size 11x300]"
      ]
     },
     "execution_count": 10,
     "metadata": {},
     "output_type": "execute_result"
    }
   ],
   "source": [
    "word_vecs"
   ]
  },
  {
   "cell_type": "code",
   "execution_count": 11,
   "metadata": {},
   "outputs": [
    {
     "data": {
      "text/plain": [
       "Variable containing:\n",
       "( 0 ,.,.) = \n",
       " -2.6928e-01  2.2387e-01  1.0296e-01  ...  -1.9804e-01 -1.3537e-01 -3.3289e-02\n",
       "\n",
       "( 1 ,.,.) = \n",
       " -2.8300e-01  2.2680e-01  4.2434e-01  ...  -2.9751e-01 -5.7114e-01 -1.1897e-02\n",
       "\n",
       "( 2 ,.,.) = \n",
       " -1.2959e-01 -4.5655e-01 -1.6903e-01  ...  -2.1640e-02  1.7986e-01 -4.5405e-01\n",
       "... \n",
       "\n",
       "( 8 ,.,.) = \n",
       " -2.7511e-01 -1.0711e-01 -3.7974e-01  ...  -3.8723e-01  3.1628e-01  3.1824e-01\n",
       "\n",
       "( 9 ,.,.) = \n",
       " -2.8478e-01  2.9991e-02  4.7464e-01  ...  -1.7845e-01  5.2008e-01 -7.2839e-01\n",
       "\n",
       "(10 ,.,.) = \n",
       " -8.7050e-02 -4.5883e-02  2.0488e-01  ...  -1.6052e-01  2.2561e-02  1.1160e-01\n",
       "[torch.FloatTensor of size 11x1x300]"
      ]
     },
     "execution_count": 11,
     "metadata": {},
     "output_type": "execute_result"
    }
   ],
   "source": [
    "model.word_embeddings(batch.text)"
   ]
  },
  {
   "cell_type": "code",
   "execution_count": null,
   "metadata": {},
   "outputs": [],
   "source": []
  },
  {
   "cell_type": "code",
   "execution_count": null,
   "metadata": {},
   "outputs": [],
   "source": []
  }
 ],
 "metadata": {
  "kernelspec": {
   "display_name": "Python 2",
   "language": "python",
   "name": "python2"
  },
  "language_info": {
   "codemirror_mode": {
    "name": "ipython",
    "version": 2
   },
   "file_extension": ".py",
   "mimetype": "text/x-python",
   "name": "python",
   "nbconvert_exporter": "python",
   "pygments_lexer": "ipython2",
   "version": "2.7.14"
  }
 },
 "nbformat": 4,
 "nbformat_minor": 2
}
